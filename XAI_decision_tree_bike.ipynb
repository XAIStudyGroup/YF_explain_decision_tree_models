{
 "cells": [
  {
   "cell_type": "code",
   "execution_count": 1,
   "id": "e7767d17",
   "metadata": {},
   "outputs": [],
   "source": [
    "from sklearn.tree import DecisionTreeClassifier\n",
    "from sklearn.tree import export_text\n",
    "import pandas as pd\n",
    "import matplotlib\n",
    "import numpy as np"
   ]
  },
  {
   "cell_type": "code",
   "execution_count": 3,
   "id": "691a3edf",
   "metadata": {},
   "outputs": [],
   "source": [
    "# import the bike data\n",
    "bike = pd.read_csv('bike.csv')"
   ]
  },
  {
   "cell_type": "code",
   "execution_count": 4,
   "id": "4206b347",
   "metadata": {},
   "outputs": [],
   "source": [
    "# select the training set\n",
    "bike_train = bike.drop(index=[100, 400, 600])\n",
    "bike_test = bike.iloc[[100,400,600],]"
   ]
  },
  {
   "cell_type": "code",
   "execution_count": 5,
   "id": "9821a6b3",
   "metadata": {},
   "outputs": [],
   "source": [
    "# like before, we will make a quick splitting of the data\n",
    "x_train = np.array(bike_train[['days_since_2011', 'temp']])\n",
    "Y_train = np.array(bike_train.cnt)\n",
    "x_test = np.array(bike_test[['days_since_2011', 'temp']])\n",
    "Y_test = np.array(bike_test.cnt)"
   ]
  },
  {
   "cell_type": "code",
   "execution_count": 7,
   "id": "0e5ef9e8",
   "metadata": {},
   "outputs": [],
   "source": [
    "decision_tree = DecisionTreeClassifier(random_state=0, max_depth=2)\n",
    "decision_tree = decision_tree.fit(x_train, Y_train)\n",
    "r = export_text(decision_tree, feature_names=['days_since_2011', 'temp'])"
   ]
  },
  {
   "cell_type": "code",
   "execution_count": 8,
   "id": "8b527bb2",
   "metadata": {},
   "outputs": [
    {
     "name": "stdout",
     "output_type": "stream",
     "text": [
      "|--- temp <= 8.02\n",
      "|   |--- days_since_2011 <= 692.00\n",
      "|   |   |--- class: 1096\n",
      "|   |--- days_since_2011 >  692.00\n",
      "|   |   |--- class: 441\n",
      "|--- temp >  8.02\n",
      "|   |--- days_since_2011 <= 79.50\n",
      "|   |   |--- class: 2077\n",
      "|   |--- days_since_2011 >  79.50\n",
      "|   |   |--- class: 3068\n",
      "\n"
     ]
    }
   ],
   "source": [
    "print(r) # visualize the tree using text"
   ]
  },
  {
   "cell_type": "code",
   "execution_count": 9,
   "id": "ca262060",
   "metadata": {},
   "outputs": [
    {
     "data": {
      "text/plain": [
       "array([0.66742166, 0.33257834])"
      ]
     },
     "execution_count": 9,
     "metadata": {},
     "output_type": "execute_result"
    }
   ],
   "source": [
    "# find feature importance\n",
    "decision_tree.feature_importances_"
   ]
  },
  {
   "cell_type": "code",
   "execution_count": 10,
   "id": "4364c38f",
   "metadata": {},
   "outputs": [
    {
     "data": {
      "text/plain": [
       "array([3068, 1096, 3068], dtype=int64)"
      ]
     },
     "execution_count": 10,
     "metadata": {},
     "output_type": "execute_result"
    }
   ],
   "source": [
    "decision_tree.predict(x_test)"
   ]
  },
  {
   "cell_type": "code",
   "execution_count": null,
   "id": "4dfb45cf",
   "metadata": {},
   "outputs": [],
   "source": []
  }
 ],
 "metadata": {
  "kernelspec": {
   "display_name": "Python 3 (ipykernel)",
   "language": "python",
   "name": "python3"
  },
  "language_info": {
   "codemirror_mode": {
    "name": "ipython",
    "version": 3
   },
   "file_extension": ".py",
   "mimetype": "text/x-python",
   "name": "python",
   "nbconvert_exporter": "python",
   "pygments_lexer": "ipython3",
   "version": "3.7.11"
  }
 },
 "nbformat": 4,
 "nbformat_minor": 5
}
